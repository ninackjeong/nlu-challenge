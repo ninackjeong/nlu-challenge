{
 "cells": [
  {
   "cell_type": "code",
   "execution_count": 1,
   "id": "1379f25b",
   "metadata": {},
   "outputs": [],
   "source": [
    "from jsgf import parse_grammar_string"
   ]
  },
  {
   "cell_type": "code",
   "execution_count": 2,
   "id": "a997e7f2",
   "metadata": {},
   "outputs": [],
   "source": [
    "with open('jsgf_kor_extended_rules.txt', 'r') as file:\n",
    "    strings = file.read()"
   ]
  },
  {
   "cell_type": "code",
   "execution_count": 3,
   "id": "f04fde19",
   "metadata": {},
   "outputs": [
    {
     "data": {
      "text/plain": [
       "'#JSGF V1.0 utf-8 ko;\\n\\ngrammar music_play_kor;\\n\\npublic <music_play_kor> =\\n    <music_object_kor> (<music_intent_kor> [<music_command_kor>] | <music_command_kor>);\\n\\n<music_intent_kor> = 듣고 싶 (은데 | 어);\\n\\n<music_command_kor> = 틀어 줄 수 (있니 | 있어);\\n\\n<music_object_kor> =\\n    //(<genre_kor> | <artist_kor>) [(음악 | 노래)] |\\n    <genre_kor> [(음악 | 노래)] |\\n    <artist_kor> [의] (<album_kor> | <song_kor>) |\\n    <song_kor> |\\n    <artist_kor>;\\n    \\n\\n<album_kor> =\\n    우마구마;\\n\\n<genre_kor> =\\n    재즈 |\\n    락 |\\n    팝 |\\n    메탈 ;\\n\\n<artist_kor> =\\n    비틀즈 |\\n    라디오헤드 |\\n    핑크플로이드 |\\n    레이디가가 ;\\n\\n<song_kor> =\\n    컨포터블리 넘 |\\n    파라노이드 안드로이드 |\\n    렛잇비 |\\n    헤이 주드 ;'"
      ]
     },
     "execution_count": 3,
     "metadata": {},
     "output_type": "execute_result"
    }
   ],
   "source": [
    "strings"
   ]
  },
  {
   "cell_type": "code",
   "execution_count": 4,
   "id": "5f272623",
   "metadata": {},
   "outputs": [],
   "source": [
    "try:\n",
    "    grammar = parse_grammar_string(strings)\n",
    "except:\n",
    "    print(\"A parsing error: Unable to process the grammar file\")"
   ]
  },
  {
   "cell_type": "code",
   "execution_count": 5,
   "id": "a56cb2e2",
   "metadata": {},
   "outputs": [],
   "source": [
    "with open('kor_test_utters.txt', 'r') as file:\n",
    "    u = file.read()\n",
    "utters = u.split('\\n')"
   ]
  },
  {
   "cell_type": "code",
   "execution_count": 6,
   "id": "e3ff28aa",
   "metadata": {},
   "outputs": [],
   "source": [
    "def check_utterance(utter, grammar):\n",
    "    try:\n",
    "        rule = grammar.find_matching_rules(utter)[0]\n",
    "        return True\n",
    "    except:\n",
    "        return False"
   ]
  },
  {
   "cell_type": "code",
   "execution_count": 7,
   "id": "2df6a785",
   "metadata": {},
   "outputs": [],
   "source": [
    "for utter in utters:\n",
    "    assert check_utterance(utter, grammar), utter "
   ]
  }
 ],
 "metadata": {
  "kernelspec": {
   "display_name": "Python 3 (ipykernel)",
   "language": "python",
   "name": "python3"
  },
  "language_info": {
   "codemirror_mode": {
    "name": "ipython",
    "version": 3
   },
   "file_extension": ".py",
   "mimetype": "text/x-python",
   "name": "python",
   "nbconvert_exporter": "python",
   "pygments_lexer": "ipython3",
   "version": "3.10.4"
  }
 },
 "nbformat": 4,
 "nbformat_minor": 5
}
