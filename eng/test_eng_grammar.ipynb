{
 "cells": [
  {
   "cell_type": "code",
   "execution_count": 1,
   "id": "8a366d1e",
   "metadata": {},
   "outputs": [],
   "source": [
    "from jsgf import parse_grammar_string"
   ]
  },
  {
   "cell_type": "code",
   "execution_count": 2,
   "id": "7f50c83d",
   "metadata": {},
   "outputs": [],
   "source": [
    "with open('jsgf_eng_extended_rules.txt', 'r') as file:\n",
    "    strings = file.read()"
   ]
  },
  {
   "cell_type": "code",
   "execution_count": 3,
   "id": "984d7f50",
   "metadata": {},
   "outputs": [
    {
     "data": {
      "text/plain": [
       "'#JSGF V1.0 utf-8 en;\\ngrammar music_play;\\n\\npublic <music_play> =\\n\\t(<music_command> | <music_intent>) <music_object>;\\n\\n// main rules\\n<music_command> =\\n\\t[can you] (play [me]| put on | put);\\n<music_intent> =\\n\\t[i] (want | (would) like) to (listen to | hear);\\n<music_object> =\\n\\t[<album> by] <artist> |\\n\\t[<artist> on] |\\n\\t<album> |\\n\\t<song> |\\n\\t<genre> [music];\\n\\n// music objects\\n<artist> =\\n\\tthe beatles |\\n\\tradiohead |\\n\\tlady gaga |\\n\\tpink floyd; \\n<song> =\\n\\tcomfortably_numb |\\n\\tparanoid android |\\n\\tlet it be|\\n\\they jude;\\n<genre> =\\n\\tjazz |\\n\\trock |\\n\\tpop |\\n\\tmetal;\\n<album> =\\n\\tummagumma;'"
      ]
     },
     "execution_count": 3,
     "metadata": {},
     "output_type": "execute_result"
    }
   ],
   "source": [
    "strings"
   ]
  },
  {
   "cell_type": "code",
   "execution_count": 4,
   "id": "4d32c766",
   "metadata": {},
   "outputs": [],
   "source": [
    "try:\n",
    "    grammar = parse_grammar_string(strings)\n",
    "except:\n",
    "    print(\"A parsing error: Unable to process the grammar file\")"
   ]
  },
  {
   "cell_type": "code",
   "execution_count": 5,
   "id": "d2a09106",
   "metadata": {},
   "outputs": [],
   "source": [
    "with open('eng_test_utters.txt', 'r') as file:\n",
    "    u = file.read()\n",
    "utters = u.split('\\n')"
   ]
  },
  {
   "cell_type": "code",
   "execution_count": 6,
   "id": "eeb6b13c",
   "metadata": {},
   "outputs": [],
   "source": [
    "def check_utterance(utter, grammar):\n",
    "    try:\n",
    "        rule = grammar.find_matching_rules(utter)[0]\n",
    "        return True\n",
    "    except:\n",
    "        return False"
   ]
  },
  {
   "cell_type": "code",
   "execution_count": 7,
   "id": "080601c1",
   "metadata": {},
   "outputs": [],
   "source": [
    "for utter in utters:\n",
    "    assert check_utterance(utter, grammar), utter "
   ]
  }
 ],
 "metadata": {
  "kernelspec": {
   "display_name": "Python 3 (ipykernel)",
   "language": "python",
   "name": "python3"
  },
  "language_info": {
   "codemirror_mode": {
    "name": "ipython",
    "version": 3
   },
   "file_extension": ".py",
   "mimetype": "text/x-python",
   "name": "python",
   "nbconvert_exporter": "python",
   "pygments_lexer": "ipython3",
   "version": "3.10.4"
  }
 },
 "nbformat": 4,
 "nbformat_minor": 5
}
